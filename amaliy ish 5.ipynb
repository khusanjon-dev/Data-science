{
 "cells": [
  {
   "cell_type": "markdown",
   "id": "a46773f4",
   "metadata": {
    "id": "a46773f4"
   },
   "source": [
    "### Ishni tekshirish uchun faylni (.ipynb) kengaytmasida yuboring.\n",
    "\n",
    "---"
   ]
  },
  {
   "cell_type": "markdown",
   "id": "edc32e30",
   "metadata": {
    "id": "edc32e30"
   },
   "source": [
    "1. Python dasturlash tilida a va b nomli ikkita o'zgaruvchi hosil qilib, ularning qiymatlarini sonlar bilan belgilang. Keyin ular yordamida arifmetik amallarni bajarib ko'ring."
   ]
  },
  {
   "cell_type": "code",
   "execution_count": null,
   "id": "2eef6ec2-624a-42b5-87c4-f916f7af6e92",
   "metadata": {
    "id": "2eef6ec2-624a-42b5-87c4-f916f7af6e92"
   },
   "outputs": [],
   "source": [
    "# javobni shu yerga kiriting...\n",
    "a, b = 10, 20\n",
    "print(a * b)\n",
    "print(a / b)\n",
    "print(a + b)\n",
    "print(a - b)\n"
   ]
  },
  {
   "cell_type": "markdown",
   "id": "ba0254b5",
   "metadata": {
    "id": "ba0254b5"
   },
   "source": [
    "2. Quyidagi qiymatlarni tegishli ma'lumot turlariga o'zgartiring:\n",
    "\n",
    "- '33' string => 33 int\n",
    "- 33 int =>  33.0 float \n",
    "- 33 int => '33' string\n",
    "- 33.0 float => 33 int \n",
    "- 33.9 float => 33.9 int "
   ]
  },
  {
   "cell_type": "code",
   "execution_count": null,
   "id": "5ee5caee-8796-4c42-8fcc-d67eff33c4e6",
   "metadata": {
    "id": "5ee5caee-8796-4c42-8fcc-d67eff33c4e6"
   },
   "outputs": [],
   "source": [
    "# javobni shu yerga kiriting...\n",
    "raqam = '33'\n",
    "butun_son = int(raqam)\n",
    "\n",
    "son_2 = 33\n",
    "son_2 = float(son_2)\n",
    "\n",
    "son_3 = 33\n",
    "son_3 = str(son_3)\n",
    "\n",
    "son_4 = 33.0 \n",
    "son_4 = int(son_4)\n",
    "\n",
    "son_5 = 33.9\n",
    "son_5 = int(son_5)\n"
   ]
  },
  {
   "cell_type": "markdown",
   "id": "56062770",
   "metadata": {
    "id": "56062770"
   },
   "source": [
    "3.  Foydalanuvchidan ikki son kiritishni so'rab, ularni qo'shish imkoniyatiga ega dastur tuzilsin."
   ]
  },
  {
   "cell_type": "code",
   "execution_count": null,
   "id": "dc85a39a-e0f8-4c96-a70b-1825899e18c7",
   "metadata": {
    "id": "dc85a39a-e0f8-4c96-a70b-1825899e18c7"
   },
   "outputs": [],
   "source": [
    "# javobni shu yerga kiriting...\n",
    "a, b = map(int, input(\"Ikkita son kiriting va men ularning yig'indisini hisoblab beraman: \").split())\n",
    "print(a + b)\n"
   ]
  },
  {
   "cell_type": "markdown",
   "id": "cd1c1a60",
   "metadata": {
    "id": "cd1c1a60"
   },
   "source": [
    "4. Foydalanuvchidan radiusni kiritishni so'rab, doiraning yuzini hisoblash imkoniyatiga ega dastur tuzilsin."
   ]
  },
  {
   "cell_type": "code",
   "execution_count": null,
   "id": "4527fc52-71a4-4054-b545-73cd9e043a36",
   "metadata": {
    "id": "4527fc52-71a4-4054-b545-73cd9e043a36"
   },
   "outputs": [],
   "source": [
    "# javobni shu yerga kiriting...\n",
    "import math\n",
    "\n",
    "radius = int(input(\"Doiraning radiusini kiriting. Men uning yuzini hisoblab beraman: \"))\n",
    "square = math.pi * radius ** 2\n",
    "print(round(square, 2))"
   ]
  },
  {
   "cell_type": "markdown",
   "id": "3111cf4d",
   "metadata": {
    "id": "3111cf4d"
   },
   "source": [
    "5. Siz taksi bilan 15,5 kilometr masofani bosib o'tdingiz va yo'l haqi sifatida 10 000 so'm to'ladingiz. Sayohat jarayonida 1 km uchun necha so'm to'lash kerak."
   ]
  },
  {
   "cell_type": "code",
   "execution_count": null,
   "id": "43d34899",
   "metadata": {
    "id": "43d34899"
   },
   "outputs": [],
   "source": [
    "# javobni shu yerga kiriting...\n",
    "space = 15.5\n",
    "price = 10000\n",
    "price_km = price / space\n",
    "print(f\"Siz har 1 km masofa uchun {round(price_km, 2)} so'm haq to'ladingiz.\")\n"
   ]
  },
  {
   "cell_type": "markdown",
   "id": "978eb37b",
   "metadata": {
    "id": "978eb37b"
   },
   "source": [
    "6. Sizdan biror so'z yoki iborani kiritishni so'raydigan va keyin bu iboraning uzunligini chop etadigan dastur yarating."
   ]
  },
  {
   "cell_type": "code",
   "execution_count": null,
   "id": "0b03a597",
   "metadata": {},
   "outputs": [],
   "source": [
    "# javobni shu yerga kiriting...\n",
    "word = input(\"Biror so'z yoki ibora kiriting: \")\n",
    "length = len(word)\n",
    "print(f\"Bu so'zning uzunligi {length} ga teng.\")\n"
   ]
  },
  {
   "cell_type": "markdown",
   "id": "e18e146f",
   "metadata": {},
   "source": [
    "## Murakkab savollar to'plami"
   ]
  },
  {
   "cell_type": "markdown",
   "id": "7407f99f",
   "metadata": {},
   "source": [
    "7. Savoldagi tinish belgilarini almashtiring, natijada  True qiymati chiqishi kerak bo'lgan ifoda tuzing.\n",
    "\n",
    "| Ifoda |\n",
    "|-------|\n",
    "| not ((int(3.5) != 3 ? 3 < 5)) | \n",
    "| True * 5 ? 5 | \n",
    "| float(35) ? 77.0 | \n",
    "| 77 // 2 == 38 and ? False |\n",
    "| \"O'zbekiston\" ? \"O'zbekiston\" ? \"Toshkent\" | \n",
    "| int(3.4) ? 3 and 3.4 ? 3.4 | \n",
    "\n",
    ".\n"
   ]
  },
  {
   "cell_type": "code",
   "execution_count": null,
   "id": "aa94b8df",
   "metadata": {},
   "outputs": [],
   "source": [
    "# javobni shu yerga kiriting...\n",
    "not ((int(3.5) != 3 and 3 < 5))\n",
    "True * 5 == 5\n",
    "float(35) != 77.0\n",
    "\"O'zbekiston\" == \"O'zbekiston\" != \"Toshkent\"\n",
    "int(3.4) == 3 and 3.4 == 3.4"
   ]
  }
 ],
 "metadata": {
  "colab": {
   "provenance": []
  },
  "kernelspec": {
   "display_name": "Python 3",
   "language": "python",
   "name": "python3"
  },
  "language_info": {
   "codemirror_mode": {
    "name": "ipython",
    "version": 3
   },
   "file_extension": ".py",
   "mimetype": "text/x-python",
   "name": "python",
   "nbconvert_exporter": "python",
   "pygments_lexer": "ipython3",
   "version": "3.11.7"
  }
 },
 "nbformat": 4,
 "nbformat_minor": 5
}
