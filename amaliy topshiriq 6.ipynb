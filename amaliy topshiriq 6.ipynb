{
 "cells": [
  {
   "cell_type": "markdown",
   "id": "a46773f4",
   "metadata": {
    "id": "a46773f4"
   },
   "source": [
    "### Ishni tekshirish uchun faylni (.ipynb) kengaytmasida yuboring.\n",
    "\n",
    "---\n"
   ]
  },
  {
   "cell_type": "markdown",
   "id": "dca0c82c",
   "metadata": {},
   "source": [
    "1. Agar 'Artel' kompaniyasi  xodimining ish tajribasi 5 yildan ortiq bo'lsa, unga kompaniya tomonidan 5% miqdorida bonus berishga qaror qilindi.\n",
    "Xodimning ish haqi va xizmat yilini so'rang va sof bonus miqdorini chop eting."
   ]
  },
  {
   "cell_type": "code",
   "execution_count": null,
   "id": "699f116d",
   "metadata": {},
   "outputs": [],
   "source": [
    "# javobni shu yerga kiriting...\n",
    "salary = int(input(\"Ish haqingizni kiriting: \"))\n",
    "muddat = int(input(\"Ish faoliyatingiz muddatini kiriting: \"))\n",
    "if muddat > 5:\n",
    "    print(f\"Sizga kompaniya tomonidan {salary * 0.05} bonus qo'shib beriladi!\")"
   ]
  },
  {
   "cell_type": "markdown",
   "id": "37c483ff",
   "metadata": {},
   "source": [
    "2. Foydalanuvchidan to'rtburchakning uzunligi va kengligi qiymatlarini oling va uning kvadrat yoki yo'qligini tekshiring."
   ]
  },
  {
   "cell_type": "code",
   "execution_count": null,
   "id": "7f0e42d3",
   "metadata": {},
   "outputs": [],
   "source": [
    "# javobni shu yerga kiriting...\n",
    "a, b = map(float, input(\"To'g'ri to'rtburchaknig uzunligi va kengligini kiriting: \").split())\n",
    "if a == b:\n",
    "    print(\"Bu shakl kvadrat\")\n"
   ]
  },
  {
   "cell_type": "markdown",
   "id": "da5a455f",
   "metadata": {},
   "source": [
    "3. Foydalanuvchidan ikkita int qiymatini oling va ular orasida eng kattasini chop eting."
   ]
  },
  {
   "cell_type": "code",
   "execution_count": null,
   "id": "6162ace4",
   "metadata": {},
   "outputs": [],
   "source": [
    "# javobni shu yerga kiriting...\n",
    "a, b = map(int, input(\"Ikkita butun kiriting va men ularning kattasini topib beraman: \").split())\n",
    "if a > b:\n",
    "    print(a)\n",
    "elif b > a:\n",
    "    print(b)\n",
    "else:\n",
    "    print(\"Bu sonlar o'zaro teng\")"
   ]
  },
  {
   "cell_type": "markdown",
   "id": "51b8dab9",
   "metadata": {},
   "source": [
    "4. Do'konda chegirmalar e'lon qilindi. Agar xaridor 100 000 so'mdan ortiq xarid qilsa unga 10 foiz chegirma beriladi. Xaridordan xarid narxini so'rang va chegirma qiymatini toping."
   ]
  },
  {
   "cell_type": "code",
   "execution_count": null,
   "id": "0e106dcf",
   "metadata": {},
   "outputs": [],
   "source": [
    "# javobni shu yerga kiriting...\n",
    "xarid = int(input(\"Xaridingiz narxini kiriting: \"))\n",
    "if xarid > 100000:\n",
    "    print(f\"Hurmatli xaridor 100 0000 so'mdan ortiq xarid qilganingiz uchun sizga 10% chegirma berildi. Chegirma miqdori {xarid * 0.1} so'm.\")\n",
    "else:\n",
    "    print(\"Hurmatli xaridor 100 000 so'mdan ortiq xarid qilganingizda 10% chegirmaga ega bo'lar edingiz.\")\n"
   ]
  },
  {
   "cell_type": "markdown",
   "id": "ab064f0d",
   "metadata": {},
   "source": [
    "5. Maktabda baholash tizimi quyidagi qoidalarga ega:\n",
    "\n",
    "- a. 25 dan past - F\n",
    "- b. 25 dan 45 gacha - E\n",
    "- c. 45 dan 50 gacha - D\n",
    "- d. 50 dan 60 gacha - C\n",
    "- e. 60 dan 80 gacha - B\n",
    "- f. 80 dan yuqori - A\n",
    "\n",
    "Foydalanuvchidan belgilar kiritishini va tegishli bahoni chop etishini so'rang."
   ]
  },
  {
   "cell_type": "code",
   "execution_count": null,
   "id": "e35e5cfe",
   "metadata": {},
   "outputs": [],
   "source": [
    "# javobni shu yerga kiriting...\n",
    "mark = float(input(\"To'plagan balingizni kiriting: \"))\n",
    "if mark < 25:\n",
    "    print(\"Sizning bahoyingiz F\")\n",
    "elif mark < 45:\n",
    "    print(\"Sizning bahoyingiz E\")\n",
    "elif mark < 50:\n",
    "    print(\"Sizning bahoyingiz D\")\n",
    "elif mark < 60:\n",
    "    print(\"Sizning bahoyingiz C\")\n",
    "elif mark < 80:\n",
    "    print(\"Sizning bahoyingiz B\")\n",
    "else:\n",
    "    print(\"Sizning bahoyingiz A\")"
   ]
  },
  {
   "cell_type": "markdown",
   "id": "b4d0fb63",
   "metadata": {},
   "source": [
    "6. Foydalanuvchi tomonidan 3 kishining yoshini kiriting. Ular orasida eng keksa va eng kichigini aniqlang."
   ]
  },
  {
   "cell_type": "code",
   "execution_count": null,
   "id": "d844fba7",
   "metadata": {},
   "outputs": [],
   "source": [
    "# javobni shu yerga kiriting...\n",
    "a = int(input(\"Alining yoshini kiriting: \"))\n",
    "b = int(input(\"Valining yoshini kiriting: \"))\n",
    "c = int(input(\"Umarning yoshini kiriting: \"))\n",
    "if a > b and a > c:\n",
    "    if b > c:\n",
    "        print(\"Eng kichigi Umar\")\n",
    "    if b < c:\n",
    "        print(\"Eng kichigi Vali\")\n",
    "    print(\"Eng kattasi Ali\")\n",
    "if b > a and b > c:\n",
    "    if a > c:\n",
    "        print(\"Eng kichigi Umar\")\n",
    "    if a < c:\n",
    "        print(\"Eng kichigi Ali\")\n",
    "    print(\"Eng kattasi Vali\")\n",
    "if c > a and c > b:\n",
    "    if b > a:\n",
    "        print(\"Eng kichigi Ali\")\n",
    "    if a > b:\n",
    "        print(\"Eng kichigi Vali\")\n",
    "    print(\"Eng kattasi Umar\")\n",
    "if a == b:\n",
    "    if a < c:\n",
    "        print(\"Eng kichigi Ali va Vali. Eng kattasi Umar\")\n",
    "    if a > c:\n",
    "        print(\"Eng kichigi Umar. Eng kattasi Ali va Vali\")\n",
    "if a == c:\n",
    "    if a < b:\n",
    "        print(\"Eng kichigi Ali va Umar. Eng kattasi Vali\")\n",
    "    if a > b:\n",
    "        print(\"Eng kichigi Vali. Eng kattasi Ali va Umar\")\n",
    "if b == c:\n",
    "    if b < a:\n",
    "        print(\"Eng kichigi Vali va Umar. Eng kattasi Ali\")\n",
    "    if b > a:\n",
    "        print(\"Eng kichigi Ali. Eng kattasi Vali va Umar\")\n",
    "if a == b and a == c:\n",
    "    print('Ular teng')\n"
   ]
  },
  {
   "cell_type": "markdown",
   "id": "f5ef3996",
   "metadata": {},
   "source": [
    "7. Bir yil kabisa yili yoki yo'qligini tekshirish uchun dastur yozing.\n",
    "Agar yil 4 ga bo'linadigan bo'lsa, bu kabisa yili, lekin agar yil 2000, 1900, 2100 kabi asr yili bo'lsa, u 400 ga bo'linishi kerak."
   ]
  },
  {
   "cell_type": "code",
   "execution_count": null,
   "id": "0ff18cdd",
   "metadata": {},
   "outputs": [],
   "source": [
    "# javobni shu yerga kiriting...\n",
    "year = int(input(\"Yilni kiriting: \"))\n",
    "if year % 4 == 0 and year % 100 != 0 or year % 400 == 0:\n",
    "    print(\"Kabisa yili\")\n",
    "else:\n",
    "    print(\"Kabisa yili emas\")\n"
   ]
  }
 ],
 "metadata": {
  "colab": {
   "provenance": []
  },
  "kernelspec": {
   "display_name": "Python 3",
   "language": "python",
   "name": "python3"
  },
  "language_info": {
   "codemirror_mode": {
    "name": "ipython",
    "version": 3
   },
   "file_extension": ".py",
   "mimetype": "text/x-python",
   "name": "python",
   "nbconvert_exporter": "python",
   "pygments_lexer": "ipython3",
   "version": "3.11.7"
  }
 },
 "nbformat": 4,
 "nbformat_minor": 5
}
