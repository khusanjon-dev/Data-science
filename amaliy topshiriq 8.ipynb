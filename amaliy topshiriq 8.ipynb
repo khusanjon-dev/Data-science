{
 "cells": [
  {
   "cell_type": "markdown",
   "id": "b7d37018",
   "metadata": {},
   "source": [
    "### Ishni tekshirish uchun faylni (.ipynb) kengaytmasida yuboring.\n",
    "\n",
    "---\n"
   ]
  },
  {
   "cell_type": "markdown",
   "id": "eb9b8b8d",
   "metadata": {},
   "source": [
    "1. Ro'yhatdagi eng kichik , eng katta  va o'rta qiymatni toping.\n",
    "`[3, 3, 5, 5, 1, 1]`"
   ]
  },
  {
   "cell_type": "code",
   "execution_count": null,
   "id": "7c63a61b",
   "metadata": {},
   "outputs": [],
   "source": [
    "# javobni shu yerga kiriting...\n",
    "list = [3,7, 8, 9,10, 3, 5, 5, 1, 1]\n",
    "list_sorted = sorted(list)\n",
    "max = list_sorted[-1]\n",
    "min = list_sorted[0]\n",
    "middle = len(list_sorted) // 2\n",
    "print(list_sorted)\n",
    "print(min, max, list_sorted[middle])"
   ]
  },
  {
   "cell_type": "markdown",
   "id": "c05c0c36",
   "metadata": {},
   "source": [
    "2. Ro'yxatdagi eng kichik elementning indeksini toping.\n",
    "`[2, 3, 1, 5, 4]`"
   ]
  },
  {
   "cell_type": "code",
   "execution_count": null,
   "id": "3c3ee42f",
   "metadata": {},
   "outputs": [],
   "source": [
    "# javobni shu yerga kiriting...\n",
    "l = [2, 3, 1, 5, 4]\n",
    "l_sorted = sorted(l)\n",
    "research = l_sorted[0]\n",
    "left = 0\n",
    "right = len(l) - 1\n",
    "middle = 0\n",
    "while left <= right:\n",
    "    middle = (left + right) // 2\n",
    "    if l[middle] < research:\n",
    "        left = middle + 1\n",
    "    elif l[middle] > research:\n",
    "        right = middle - 1\n",
    "    else:\n",
    "        print(middle)\n",
    "        break"
   ]
  },
  {
   "cell_type": "markdown",
   "id": "515c5d70",
   "metadata": {},
   "source": [
    "3. Ro'yxatdagi juft elementlarni hisoblang.\n",
    "`[1, 2, 3, 4, 5, 6, 7, 8, 9, 10]`"
   ]
  },
  {
   "cell_type": "code",
   "execution_count": null,
   "id": "8412d298",
   "metadata": {},
   "outputs": [],
   "source": [
    "# javobni shu yerga kiriting..."
   ]
  },
  {
   "cell_type": "markdown",
   "id": "5b9ec753",
   "metadata": {},
   "source": [
    "4. Ro'yxatdagi eng yuqori ikki elementni saralang.`[5, 3, 9, 1, 8]`"
   ]
  },
  {
   "cell_type": "code",
   "execution_count": null,
   "id": "011d7d30",
   "metadata": {},
   "outputs": [],
   "source": [
    "# javobni shu yerga kiriting..."
   ]
  },
  {
   "cell_type": "markdown",
   "id": "0f517a97",
   "metadata": {},
   "source": [
    "5. Biror elementning ro'yxatdagi takrorlanish sonini hisoblang. `['apple', 'banana', 'apple', 'cherry', 'banana']`"
   ]
  },
  {
   "cell_type": "code",
   "execution_count": null,
   "id": "61b6ff11",
   "metadata": {},
   "outputs": [],
   "source": [
    "# javobni shu yerga kiriting..."
   ]
  },
  {
   "cell_type": "markdown",
   "id": "ae1b42b3",
   "metadata": {},
   "source": [
    "6. Ro'yxatni teskari tartibda chop eting. `[1, 2, 3, 4, 5]`"
   ]
  },
  {
   "cell_type": "code",
   "execution_count": null,
   "id": "3d5de9d3",
   "metadata": {},
   "outputs": [],
   "source": [
    "# javobni shu yerga kiriting..."
   ]
  },
  {
   "cell_type": "markdown",
   "id": "98956339",
   "metadata": {},
   "source": [
    "7. Ro'yxatdagi eng katta ikki raqamni toping. `[10, 20, 30, 40, 50]`"
   ]
  },
  {
   "cell_type": "code",
   "execution_count": null,
   "id": "0ab000df",
   "metadata": {},
   "outputs": [],
   "source": [
    "# javobni shu yerga kiriting..."
   ]
  },
  {
   "cell_type": "markdown",
   "id": "9a9744e7",
   "metadata": {},
   "source": [
    "8. Matn ichidagi so'zlarni alifbo bo'yicha saralang. `Amir Temur buyuk sarkarda va tarixiy shaxs`"
   ]
  },
  {
   "cell_type": "code",
   "execution_count": null,
   "id": "3a1351a0",
   "metadata": {},
   "outputs": [],
   "source": [
    "# javobni shu yerga kiriting..."
   ]
  },
  {
   "cell_type": "markdown",
   "id": "9114d779",
   "metadata": {},
   "source": [
    "9. Ro'yxatdagi so'zlar ichida eng uzunini toping.`[\"apple\", \"banana\", \"cherry\", \"date\"]`"
   ]
  },
  {
   "cell_type": "code",
   "execution_count": null,
   "id": "3725d787",
   "metadata": {},
   "outputs": [],
   "source": [
    "# javobni shu yerga kiriting..."
   ]
  },
  {
   "cell_type": "markdown",
   "id": "73f90445",
   "metadata": {},
   "source": [
    "10. Sizga ichma-ich joylashgan ro'yxat berilgan. Unga [\"h\", \"i\", \"j\"] kichik ro'yxatini qo'shish orqali kengaytiradigan ro'yhat tuzing.\n",
    "\n",
    "Misol uchun:\n",
    "\n",
    " ```\n",
    " list1 = [\"a\", \"b\", [\"c\", [\"d\", \"e\", [\"f\", \"g\"], \"k\"], \"l\"], \"m\", \"n\"]\n",
    "\n",
    "new_list = [\"h\", \"i\", \"j\"]\n",
    "\n",
    "javob:['a', 'b', ['c', ['d', 'e', ['f', 'g', 'h', 'i', 'j'], 'k'], 'l'], 'm', 'n']\n",
    "```"
   ]
  },
  {
   "cell_type": "code",
   "execution_count": null,
   "id": "454d474b",
   "metadata": {},
   "outputs": [],
   "source": [
    "# javobni shu yerga kiriting..."
   ]
  },
  {
   "cell_type": "markdown",
   "id": "041ff907",
   "metadata": {},
   "source": [
    "11. Matn ichidagi harflarning takrorlanishlar sonini hisoblang. \n",
    "`Toshkent juda chiroyli shahar`"
   ]
  },
  {
   "cell_type": "code",
   "execution_count": null,
   "id": "679d73f7",
   "metadata": {},
   "outputs": [],
   "source": [
    "# javobni shu yerga kiriting..."
   ]
  },
  {
   "cell_type": "markdown",
   "id": "aae3faa6",
   "metadata": {},
   "source": [
    "12. Sizga butun sonlardan tashkil topgan ro'yxat beriladi va siz kiritilgan qiymatning ro'yxatda borligini aniqlashingiz kerak. Chiziqli qidiruv algoritimidan foydalaning."
   ]
  },
  {
   "cell_type": "code",
   "execution_count": null,
   "id": "7466933c",
   "metadata": {},
   "outputs": [],
   "source": [
    "# javobni shu yerga kiriting..."
   ]
  },
  {
   "cell_type": "markdown",
   "id": "ceea8f8b",
   "metadata": {},
   "source": [
    "13. Sizga butun sonlardan tashkil topgan ro'yxat beriladi va siz kiritilgan qiymatning ro'yxatda borligini aniqlashingiz kerak. Ikkilangan qidiruv algoritimidan foydalaning."
   ]
  },
  {
   "cell_type": "code",
   "execution_count": null,
   "id": "45ce6ebc",
   "metadata": {},
   "outputs": [],
   "source": [
    "# javobni shu yerga kiriting..."
   ]
  },
  {
   "cell_type": "markdown",
   "id": "2bfe1a9c",
   "metadata": {},
   "source": [
    "14. Sizga n ta butun sonlar kiritilgan ro'yxat berilgan. Ushbu ro'yxatni bubble sort algoritmi yordamida tartiblang.\n",
    "```[8,4,8,33,45,98,,1,32,52,69,53,11]```"
   ]
  },
  {
   "cell_type": "code",
   "execution_count": null,
   "id": "f38fdee4",
   "metadata": {},
   "outputs": [],
   "source": [
    "# javobni shu yerga kiriting..."
   ]
  }
 ],
 "metadata": {
  "kernelspec": {
   "display_name": "base",
   "language": "python",
   "name": "python3"
  },
  "language_info": {
   "codemirror_mode": {
    "name": "ipython",
    "version": 3
   },
   "file_extension": ".py",
   "mimetype": "text/x-python",
   "name": "python",
   "nbconvert_exporter": "python",
   "pygments_lexer": "ipython3",
   "version": "3.11.7"
  }
 },
 "nbformat": 4,
 "nbformat_minor": 5
}
