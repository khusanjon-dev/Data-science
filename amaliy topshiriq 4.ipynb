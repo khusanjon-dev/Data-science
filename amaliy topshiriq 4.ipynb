{
 "cells": [
  {
   "cell_type": "markdown",
   "id": "a46773f4",
   "metadata": {
    "id": "a46773f4"
   },
   "source": [
    "### Ishni tekshirish uchun faylni (.ipynb) kengaytmasida yuboring.\n",
    "\n",
    "---"
   ]
  },
  {
   "cell_type": "markdown",
   "id": "edc32e30",
   "metadata": {
    "id": "edc32e30"
   },
   "source": [
    "1. Bir tashkilotda besh xodim ishlaydi. Ularning oylik maoshlari quyidagicha: 1500000 soʼm, 2200000 soʼm, 1800000 soʼm, 2500000 soʼm va 3000000 soʼm. Ushbu tashkilotdagi xodimlarning oʼrtacha oylik maoshini hisoblang."
   ]
  },
  {
   "cell_type": "code",
   "execution_count": null,
   "id": "2eef6ec2-624a-42b5-87c4-f916f7af6e92",
   "metadata": {
    "id": "2eef6ec2-624a-42b5-87c4-f916f7af6e92"
   },
   "outputs": [],
   "source": [
    "# javobni shu yerga kiriting...\n",
    " \n",
    "maosh=[1500000, 2200000, 1800000, 2500000, 3000000]\n",
    "print(f\"Ishchilarning o'rtacha maoshi {sum(maosh)/len(maosh)} so'm\")"
   ]
  },
  {
   "cell_type": "markdown",
   "id": "ba0254b5",
   "metadata": {
    "id": "ba0254b5"
   },
   "source": [
    "2. Sizga meros sifatida bo'yi 20 metr  va  eni 30 metr kenglikdagi yer maydoni qoldi. Ushbu yer maydoni yuzasini hisoblang."
   ]
  },
  {
   "cell_type": "code",
   "execution_count": null,
   "id": "5ee5caee-8796-4c42-8fcc-d67eff33c4e6",
   "metadata": {
    "id": "5ee5caee-8796-4c42-8fcc-d67eff33c4e6"
   },
   "outputs": [],
   "source": [
    "# javobni shu yerga kiriting...\n",
    "a=20\n",
    "b=30\n",
    "print(f\"Yer maydonining yuzi {a*b} ga teng\")"
   ]
  },
  {
   "cell_type": "markdown",
   "id": "56062770",
   "metadata": {
    "id": "56062770"
   },
   "source": [
    "3. Omborda 10 yashik olma bor. Har bir yashikda 50 tadan olma mavjud. Agar ularni 6 tadan qadoqlasak. Bizda nechta qadoqlangan olma bo'ladi? "
   ]
  },
  {
   "cell_type": "code",
   "execution_count": null,
   "id": "dc85a39a-e0f8-4c96-a70b-1825899e18c7",
   "metadata": {
    "id": "dc85a39a-e0f8-4c96-a70b-1825899e18c7"
   },
   "outputs": [],
   "source": [
    "# javobni shu yerga kiriting...\n",
    "a=10\n",
    "b=50\n",
    "c=6\n",
    "x=int(a*b/c)\n",
    "print(x)"
   ]
  },
  {
   "cell_type": "markdown",
   "id": "cd1c1a60",
   "metadata": {
    "id": "cd1c1a60"
   },
   "source": [
    "4. Quyida print() funksiyasidan foydalanib, \"Farg'ona\" so'zini chop eting."
   ]
  },
  {
   "cell_type": "code",
   "execution_count": null,
   "id": "4527fc52-71a4-4054-b545-73cd9e043a36",
   "metadata": {
    "id": "4527fc52-71a4-4054-b545-73cd9e043a36"
   },
   "outputs": [],
   "source": [
    "# javobni shu yerga kiriting...\n",
    "print(\"Farg'ona\")"
   ]
  },
  {
   "cell_type": "markdown",
   "id": "3111cf4d",
   "metadata": {
    "id": "3111cf4d"
   },
   "source": [
    "5. Quyida print() funksiyasidan foydalanib, \"Bahor\", \"Yoz\", \"Kuz\", \"Qish\" fasllarining nomlarini chop eting. Barcha soʼzlar orasida chiziqcha (\"-\") boʼlishi kerak. Buning uchun `sep` argumentidan foydalaning."
   ]
  },
  {
   "cell_type": "code",
   "execution_count": null,
   "id": "43d34899",
   "metadata": {
    "id": "43d34899"
   },
   "outputs": [],
   "source": [
    "# javobni shu yerga kiriting...\n",
    "print('Bahor', 'Yoz', 'Kuz', \"Qish\", step=\"-\")\n"
   ]
  },
  {
   "cell_type": "markdown",
   "id": "978eb37b",
   "metadata": {
    "id": "978eb37b"
   },
   "source": [
    "6. Siz 4 soat davomida 320 km masofani bosib oʼtdingiz. O'rtacha tezlikni toping va print() yordamida natijani chiqaring."
   ]
  },
  {
   "cell_type": "code",
   "execution_count": null,
   "id": "23105d1d",
   "metadata": {
    "id": "23105d1d"
   },
   "outputs": [],
   "source": [
    "# javobni shu yerga kiriting...\n",
    "t=4\n",
    "S=320\n",
    "v=s/t\n",
    "print(v)"
   ]
  },
  {
   "cell_type": "markdown",
   "id": "1e5707c8",
   "metadata": {},
   "source": [
    "7.  Agar Oʻzbekistonning maydoni 448,978 km² bo'lsa, uning yuzasi AQSh shtatlaridan biri, masalan, Kaliforniya shtatining maydoni bilan taqqoslaganda qancha foizni tashkil etadi? Kaliforniyaning maydoni 423,970 km²."
   ]
  },
  {
   "cell_type": "code",
   "execution_count": null,
   "id": "36d0ffcc",
   "metadata": {},
   "outputs": [],
   "source": [
    "# javobni shu yerga kiriting...\n",
    "U=448.978\n",
    "K=423.970\n",
    "print(f\"{U/K*100}%\")"
   ]
  },
  {
   "cell_type": "markdown",
   "id": "1f1c5f11",
   "metadata": {},
   "source": [
    "8. Oʻzbekistonning YAIM (yalpi ichki mahsuloti) 2023 yilda 100 milliard dollar deb faraz qilingan. Oʻzbekistonning har bir fuqarosiga YAIMning qancha qismi toʻgʻri keladi, agar mamlakat aholisi 35 million kishi deb hisoblansa?"
   ]
  },
  {
   "cell_type": "code",
   "execution_count": null,
   "id": "0f8869cc",
   "metadata": {},
   "outputs": [],
   "source": [
    "# javobni shu yerga kiriting...\n",
    "print(f\"{10**11/(35*10**6)} dollar\")"
   ]
  }
 ],
 "metadata": {
  "colab": {
   "provenance": []
  },
  "kernelspec": {
   "display_name": "Python 3",
   "language": "python",
   "name": "python3"
  },
  "language_info": {
   "codemirror_mode": {
    "name": "ipython",
    "version": 3
   },
   "file_extension": ".py",
   "mimetype": "text/x-python",
   "name": "python",
   "nbconvert_exporter": "python",
   "pygments_lexer": "ipython3",
   "version": "3.11.7"
  }
 },
 "nbformat": 4,
 "nbformat_minor": 5
}
