{
 "cells": [
  {
   "cell_type": "markdown",
   "metadata": {
    "id": "veTO4_6tQxFR"
   },
   "source": [
    "### Ishni tekshirish uchun faylni (.ipynb) kengaytmasida yuboring.\n",
    "\n",
    "---\n"
   ]
  },
  {
   "cell_type": "markdown",
   "metadata": {},
   "source": [
    "1. While yordamida 1 dan  10 gacha natural sonlarni chop eting."
   ]
  },
  {
   "cell_type": "code",
   "execution_count": null,
   "metadata": {},
   "outputs": [],
   "source": [
    "# javobni shu yerga kiriting...\n",
    "n =1\n",
    "while n <= 10:\n",
    "    print(n)\n",
    "    n += 1"
   ]
  },
  {
   "cell_type": "markdown",
   "metadata": {},
   "source": [
    "2. 1 dan to  berilgan songacha bo'lgan barcha raqamlarning yig'indisini hisoblang.\n",
    "Misol uchun:\n",
    "- Kiritilgan son 10 \n",
    "- Dastur javobi  1+2+3+4+5+6+7+8+9+10=55\n"
   ]
  },
  {
   "cell_type": "code",
   "execution_count": null,
   "metadata": {},
   "outputs": [],
   "source": [
    "# javobni shu yerga kiriting...\n",
    "n = int(input(\"Biror son kiriting: \"))\n",
    "result = 0\n",
    "for i in range(n + 1):\n",
    "    result += i\n",
    "print(result)"
   ]
  },
  {
   "cell_type": "markdown",
   "metadata": {},
   "source": [
    "3.  Berilgan sonning ko'paytirish jadvalini chop etadigan dastur yozing.\n",
    "\n",
    "Misol uchun:\n",
    "- Kiritilgan son : 2\n",
    "\n",
    "```\n",
    "2 x 1 = 2  \n",
    "2 x 2 = 4  \n",
    "2 x 3 = 6  \n",
    "2 x 4 = 8  \n",
    "2 x 5 = 10  \n",
    "2 x 6 = 12  \n",
    "2 x 7 = 14  \n",
    "2 x 8 = 16  \n",
    "2 x 9 = 18  \n",
    "2 x 10 = 20  \n",
    "```\n"
   ]
  },
  {
   "cell_type": "code",
   "execution_count": null,
   "metadata": {},
   "outputs": [],
   "source": [
    "# javobni shu yerga kiriting...\n",
    "n = int(input(\"Biror son kiriting: \"))\n",
    "for i in range(1, 11):\n",
    "    print(f\"{n} * {i} = {n * i}\")"
   ]
  },
  {
   "cell_type": "markdown",
   "metadata": {},
   "source": [
    "4. Berilgan sonning raqamlar sonini hisoblash uchun while siklidan foydalangan holda dastur yozing."
   ]
  },
  {
   "cell_type": "code",
   "execution_count": null,
   "metadata": {},
   "outputs": [],
   "source": [
    "# javobni shu yerga kiriting...\n",
    "son = int(input(\"Biror son kiriting: \"))\n",
    "digit = 0\n",
    "while son > 0:\n",
    "    son //= 10\n",
    "    digit += 1\n",
    "print(digit)"
   ]
  },
  {
   "cell_type": "markdown",
   "metadata": {},
   "source": [
    "5. Ko'rsatilgan raqamlar naqshini teskari tartibda chop etadigan dastur yozish uchun for siklidan foydalaning.\n",
    "\n",
    "Misol uchun:\n",
    "\n",
    "- Kiritilgan son : 5\n",
    "```\n",
    "5 4 3 2 1 \n",
    "4 3 2 1 \n",
    "3 2 1 \n",
    "2 1 \n",
    "1 \n",
    "```"
   ]
  },
  {
   "cell_type": "code",
   "execution_count": null,
   "metadata": {},
   "outputs": [],
   "source": [
    "# javobni shu yerga kiriting...\n",
    "son = int(input(\"Biror son kiriting: \"))\n",
    "for i in range(son, 0, -1):\n",
    "    for j in range(i, 0, -1):\n",
    "        print(j, end=\" \")\n",
    "    print(end=\"\\n\")"
   ]
  },
  {
   "cell_type": "markdown",
   "metadata": {},
   "source": [
    "6. for sikli yordamida -10 dan -1 gacha bo'lgan sonlarni ko'rsatadigan dasturi tuzing.\n",
    "\n",
    "    Natija quydagicha bo'lishi lozim :\n",
    "  ```\n",
    "    -10\n",
    "    -9\n",
    "    -8\n",
    "    -7\n",
    "    -6\n",
    "    -5\n",
    "    -4\n",
    "    -3\n",
    "    -2\n",
    "    -1\n",
    "\n",
    "  ```"
   ]
  },
  {
   "cell_type": "code",
   "execution_count": null,
   "metadata": {},
   "outputs": [],
   "source": [
    "# javobni shu yerga kiriting...\n",
    "for i in range(-10, 0, 1):\n",
    "    print(i)"
   ]
  },
  {
   "cell_type": "markdown",
   "metadata": {},
   "source": [
    "8. Ma'lum bir diapazonda barcha tub sonlarni tekshirib ko'rsatadigan  dastur tuzing.\n",
    "\n",
    "Misol uchun:\n",
    "\n",
    "- Kiritilgan sonlar diapazoni\n",
    "\n",
    "start:25\n",
    "\n",
    "end:50\n",
    "\n",
    "javob : 29 31 37 41 43 47 "
   ]
  },
  {
   "cell_type": "code",
   "execution_count": null,
   "metadata": {},
   "outputs": [],
   "source": [
    "# javobni shu yerga kiriting...\n",
    "start = int(input(\"Boshlang'ich diapazonni kiriting: \"))\n",
    "end = int(input(\"Diapazon oxirgi chegarasini kiriting: \"))\n",
    "for son in range(start, end+1):\n",
    "    if son > 1:\n",
    "        tub = True\n",
    "        for i in range(2, son):\n",
    "            if son % i == 0:\n",
    "                tub = False\n",
    "        if tub:\n",
    "            print(son, end=\" \")"
   ]
  },
  {
   "cell_type": "markdown",
   "metadata": {},
   "source": [
    "9. Fibonacci ketma-ketligini 10 ta atamagacha ko'rsatadigan  dastur tuzing.\n",
    "Ilova orqali ma'lumot oling: https://uz.wikipedia.org/wiki/Fibonacci_sonlari"
   ]
  },
  {
   "cell_type": "code",
   "execution_count": null,
   "metadata": {},
   "outputs": [],
   "source": [
    "# javobni shu yerga kiriting...\n",
    "a = 0\n",
    "b = 1\n",
    "count = 0\n",
    "while count < 10:\n",
    "    print(a)\n",
    "    a, b = b, a + b\n",
    "    count += 1"
   ]
  },
  {
   "cell_type": "markdown",
   "metadata": {},
   "source": [
    "10. Berilgan sonning faktorialini topadigan dastur yozing."
   ]
  },
  {
   "cell_type": "code",
   "execution_count": null,
   "metadata": {},
   "outputs": [],
   "source": [
    "# javobni shu yerga kiriting...\n",
    "son = int(input(\"Son kiriting: \"))\n",
    "fakt = 1\n",
    "if son == 0:\n",
    "    print(1)\n",
    "else:\n",
    "    for i in range(1, son + 1):\n",
    "        fakt *= i\n",
    "    print(fakt)"
   ]
  },
  {
   "cell_type": "markdown",
   "metadata": {},
   "source": [
    "11. Berilgan butun sonni teskarisiga aylantiradigan  dastur yozing."
   ]
  },
  {
   "cell_type": "code",
   "execution_count": null,
   "metadata": {},
   "outputs": [],
   "source": [
    "# javobni shu yerga kiriting...\n",
    "son = int(input(\"Son kiriting: \"))\n",
    "if son == 0:\n",
    "    print(\"0 ning teskarisi mavjud emas\")\n",
    "else:\n",
    "    print(f\"1/{son} yoki {round(1/son, 2)}\")"
   ]
  },
  {
   "cell_type": "markdown",
   "metadata": {},
   "source": [
    "12. Berilgan n atamagacha seriyani yig'indisini hisoblaydigan dastur yozing. \n",
    "Misol uchun\n",
    " agar n = 5 bo'lsa, seriya quyidagicha bo'ladi: \n",
    " `2 + 22 + 222 + 2222 + 22222 = 24690`."
   ]
  },
  {
   "cell_type": "code",
   "execution_count": null,
   "metadata": {},
   "outputs": [],
   "source": [
    "# javobni shu yerga kiriting...\n",
    "n = int(input(\"Son kiriting: \"))\n",
    "element = 2\n",
    "total = 0\n",
    "current = 0\n",
    "for i in range(n):\n",
    "    current = current * 10 + element\n",
    "    total += current\n",
    "print(f\"Seriya yig'indisi {total}\")"
   ]
  },
  {
   "cell_type": "markdown",
   "metadata": {},
   "source": [
    "13. 1 dan 20 gacha raqamlarni chiqaradigan  dasturini yozing. Ammo, agar raqam 3 ga bo'linadigan bo'lsa, dastur raqamni chiqarish o'rniga hech narsa qilmasligi va keyingi raqamga o'tishi kerak."
   ]
  },
  {
   "cell_type": "code",
   "execution_count": null,
   "metadata": {},
   "outputs": [],
   "source": [
    "# javobni shu yerga kiriting...\n",
    "for i in range(1,21):\n",
    "    if i % 3 == 0:\n",
    "        pass\n",
    "    else:\n",
    "        print(i)"
   ]
  },
  {
   "cell_type": "markdown",
   "metadata": {},
   "source": [
    "14. 1 dan 30 gacha raqamlarni chiqaradigan, lekin 5 ga bo'linadigan raqamlarni o'tkazib yuboradigan dastur tuzing."
   ]
  },
  {
   "cell_type": "code",
   "execution_count": null,
   "metadata": {},
   "outputs": [],
   "source": [
    "# javobni shu yerga kiriting...\n",
    "for i in range(1,31):\n",
    "    if i % 5 == 0:\n",
    "        pass\n",
    "    else:\n",
    "        print(i)"
   ]
  }
 ],
 "metadata": {
  "colab": {
   "collapsed_sections": [],
   "provenance": []
  },
  "kernelspec": {
   "display_name": "Python 3",
   "name": "python3"
  },
  "language_info": {
   "codemirror_mode": {
    "name": "ipython",
    "version": 3
   },
   "file_extension": ".py",
   "mimetype": "text/x-python",
   "name": "python",
   "nbconvert_exporter": "python",
   "pygments_lexer": "ipython3",
   "version": "3.11.7"
  }
 },
 "nbformat": 4,
 "nbformat_minor": 0
}
