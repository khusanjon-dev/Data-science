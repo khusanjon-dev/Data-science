{
 "cells": [
  {
   "cell_type": "markdown",
   "id": "cbaee9f2",
   "metadata": {},
   "source": [
    "### Ishni tekshirish uchun faylni (.ipynb) kengaytmasida yuboring.\n",
    "\n",
    "---\n"
   ]
  },
  {
   "cell_type": "markdown",
   "id": "7ef450fc",
   "metadata": {},
   "source": [
    "1.  1 dan 10 gacha bo'lgan barcha juft sonlarning kvadratlari ro'yxatini yarating.\n",
    "List comprehension uslubidan foydalaning."
   ]
  },
  {
   "cell_type": "code",
   "execution_count": null,
   "id": "74e0cfa6",
   "metadata": {},
   "outputs": [],
   "source": [
    "# javobni shu yerga kiriting...\n",
    "numbers = [x **2 for x in range(1, 11)]\n",
    "print(numbers)"
   ]
  },
  {
   "cell_type": "markdown",
   "id": "a8e38e1d",
   "metadata": {},
   "source": [
    "2. Ro'yxatdagi so'zlarning uzunliklari ro'yxatini yarating. List comprehension uslubidan foydalaning.\n",
    "\n",
    "Misol uchun :\n",
    "```\n",
    "['olma', 'banan','olcha','nok']\n",
    "javob :[4, 5, 5, 3]\n",
    "```"
   ]
  },
  {
   "cell_type": "code",
   "execution_count": null,
   "id": "a491525e",
   "metadata": {},
   "outputs": [],
   "source": [
    "# javobni shu yerga kiriting...\n",
    "words = ['olma', 'banan','olcha','nok']\n",
    "length_words = [len(word) for word in words]\n",
    "print(length_words)"
   ]
  },
  {
   "cell_type": "markdown",
   "id": "b349c8e2",
   "metadata": {},
   "source": [
    "3. Kalitlari 1 dan 5 gacha bo'lgan sonlar va qiymatlari ularning faktoriallari bo'lgan lug'atni yaratadigan list comprehension yozing.\n",
    "\n",
    "javob : ``` {1: 1, 2: 2, 3: 6, 4: 24, 5: 120} ``` bo'lishi kerak."
   ]
  },
  {
   "cell_type": "code",
   "execution_count": null,
   "id": "52f6f246",
   "metadata": {},
   "outputs": [],
   "source": [
    "# javobni shu yerga kiriting...\n",
    "def numbers_factorial(number: int):\n",
    "    fact = 1\n",
    "    n = 1\n",
    "    while n <= number:\n",
    "        fact = fact * n\n",
    "        n += 1\n",
    "    return fact\n",
    "# faktorialni qaytaradigan funksiya yozib oldim, va uni list comprehensionda qo'lladim. ancha soddalashdi.\n",
    "\n",
    "get_factorial_numb = [ numbers_factorial(x) for x in range( 1, 6) ]\n",
    "print(get_factorial_numb)"
   ]
  },
  {
   "cell_type": "markdown",
   "id": "9a88c804",
   "metadata": {},
   "source": [
    "4.  Berilgan tuple ichidagi eng katta sonni topadigan  dasturini yozing.\n",
    "\n",
    "Misol uchun :\n",
    "\n",
    "```tuple1 = (4, 8, 3, 15, 2, 7, 10)```\n",
    "\n",
    "javob : 15 "
   ]
  },
  {
   "cell_type": "code",
   "execution_count": null,
   "id": "b767c4b2",
   "metadata": {},
   "outputs": [],
   "source": [
    "# javobni shu yerga kiriting...\n",
    "tuple1 = (4, 8, 3, 15, 2, 7, 10)\n",
    "\n",
    "print(max(tuple1))"
   ]
  },
  {
   "cell_type": "markdown",
   "id": "8a649180",
   "metadata": {},
   "source": [
    " 5. Tuple ichida qatnashgan elementlar sonini hisoblaydigan funksiya yozing. \n",
    "\n",
    " Misol uchun:\n",
    " ```\n",
    "  ('a', 'b', 'a', 'c', 'b', 'a', 'd', 'c')\n",
    "```\n",
    "javob: ```  {'a': 3, 'b': 2, 'c': 2, 'd': 1} ```"
   ]
  },
  {
   "cell_type": "code",
   "execution_count": null,
   "id": "c281cc83",
   "metadata": {},
   "outputs": [],
   "source": [
    "# javobni shu yerga kiriting...\n",
    "signs = ('a', 'b', 'a', 'c', 'b', 'a', 'd', 'c')\n",
    "def count_letters(signs):\n",
    "    result = {}\n",
    "    for sign in signs:\n",
    "        if result.get(sign):\n",
    "            result[sign] += 1\n",
    "        else:\n",
    "            result[sign] = 1\n",
    "    print(result)\n"
   ]
  },
  {
   "cell_type": "markdown",
   "id": "4f57c19d",
   "metadata": {},
   "source": [
    "6. To'plamlarni birlashtiruvchi funksiya yozing."
   ]
  },
  {
   "cell_type": "code",
   "execution_count": null,
   "id": "6eb41a90",
   "metadata": {},
   "outputs": [],
   "source": [
    "# javobni shu yerga kiriting...\n",
    "def union_sets(A_set, B_set):\n",
    "    return A_set.union(B_set)\n",
    "print(union_sets({1, 2, 3, 45}, {\"a\", 'c'}))"
   ]
  },
  {
   "cell_type": "markdown",
   "id": "1b8b8645",
   "metadata": {},
   "source": [
    "7. Ikki to'plamning kesishmasini topish imkoniyatiga ega funksiya yozing.\n"
   ]
  },
  {
   "cell_type": "code",
   "execution_count": null,
   "id": "aff1ae9d",
   "metadata": {},
   "outputs": [],
   "source": [
    "# javobni shu yerga kiriting...\n",
    "def section_sets(A_set, B_set):\n",
    "    return A_set & B_set\n",
    "print(section_sets({1, 2, 3, 45}, {\"a\", 2, 3, 'c'}))"
   ]
  },
  {
   "cell_type": "markdown",
   "id": "036d215d",
   "metadata": {},
   "source": [
    "8. Bir to'plamdan ikkinchi to'plamni ayirish imkoniyatiga ega funksiya yozing."
   ]
  },
  {
   "cell_type": "code",
   "execution_count": null,
   "id": "0a97e1f3",
   "metadata": {},
   "outputs": [],
   "source": [
    "# javobni shu yerga kiriting...\n",
    "def section_sets(A_set, B_set):\n",
    "    return A_set.difference(B_set)\n",
    "print(section_sets({1, 2, 3, 45}, {\"a\", 2, 3, 'c'}))"
   ]
  },
  {
   "cell_type": "markdown",
   "id": "f21c832b",
   "metadata": {},
   "source": [
    "9. To'plamlarni simmetrik farqini topish uchun funksiya yozing"
   ]
  },
  {
   "cell_type": "code",
   "execution_count": null,
   "id": "f2cdf1f5",
   "metadata": {},
   "outputs": [],
   "source": [
    "# javobni shu yerga kiriting...\n",
    "def section_sets(A_set, B_set):\n",
    "    return A_set.symmetric_difference(B_set)\n",
    "print(section_sets({1, 2, 3, 45}, {\"a\", 2, 3, 'c'}))"
   ]
  },
  {
   "cell_type": "markdown",
   "id": "f0c4fc1f",
   "metadata": {},
   "source": [
    "10. Berilgan dars jadvali ma'lumotlaridan foydalanib, har bir kun uchun dars jadvalini yaratadigan  dasturni yozing.\n",
    "\n",
    "Dars jadvali:\n",
    "```\n",
    "shedule = {\n",
    "    'Matematika': ['dush', 'yak'],\n",
    "    'Fizika': ['dush', 'sesh'],\n",
    "    'Kimyo': ['chor', 'pay', 'jum'],\n",
    "    'Biologiya': ['chor', 'jum', 'yak'],\n",
    "    'Tarix': ['pay'],\n",
    "    'Geografiya': ['jum', 'yak'],\n",
    "    'Adabiyot': ['sesh', 'yak'],\n",
    "}\n",
    "\n",
    "hafta_kunlari = ['dush', 'sesh', 'chor', 'pay', 'jum', 'shan', 'yak']\n",
    "\n",
    "```\n",
    "\n",
    "Kutilayotgan yechim:\n",
    "```\n",
    "{\n",
    "    'dush': ['Matematika', 'Fizika'],\n",
    "    'sesh': ['Fizika', 'Adabiyot'],\n",
    "    'chor': ['Kimyo', 'Biologiya'],\n",
    "    'pay': ['Kimyo', 'Tarix'],\n",
    "    'jum': ['Kimyo', 'Biologiya', 'Geografiya'],\n",
    "    'shan': [],\n",
    "    'yak': ['Matematika', 'Biologiya', 'Geografiya', 'Adabiyot']\n",
    "}\n",
    "\n",
    "```"
   ]
  },
  {
   "cell_type": "code",
   "execution_count": null,
   "id": "f82daa3d",
   "metadata": {},
   "outputs": [],
   "source": [
    "# javobni shu yerga kiriting...\n",
    "schedule = {\n",
    "    'Matematika': ['dush', 'yak'],\n",
    "    'Fizika': ['dush', 'sesh'],\n",
    "    'Kimyo': ['chor', 'pay', 'jum'],\n",
    "    'Biologiya': ['chor', 'jum', 'yak'],\n",
    "    'Tarix': ['pay'],\n",
    "    'Geografiya': ['jum', 'yak'],\n",
    "    'Adabiyot': ['sesh', 'yak']\n",
    "}\n",
    "hafta_kunlari = ['dush', 'sesh', 'chor', 'pay', 'jum', 'shan', 'yak']\n",
    "# javobni qaytarish uchun lug'at yaratib olamiz. bu yerda ham list comprehensiondan foydalandim\n",
    "kunlik_jadval = {kun: [] for kun in hafta_kunlari}\n",
    "# for operatori orqali kalit va qiymatlarni chiqarib olamiz\n",
    "for fan, kunlar in schedule.items():\n",
    "    # bizda har bir qiymat listlardan iborat. endi shu listlardan kunlarni ajratib olamiz.\n",
    "    for kun in kunlar:\n",
    "        # mos kunlarga darslarni joylaymiz\n",
    "        kunlik_jadval[kun].append(fan)\n",
    "# endi uni chop etamiz\n",
    "for kun, fanlar in kunlik_jadval.items():\n",
    "    print(f\"{kun.capitalize()}: {', '.join(fanlar) if fanlar else \"Dars yo'q\"}\")\n"
   ]
  },
  {
   "cell_type": "markdown",
   "id": "00ca397e",
   "metadata": {},
   "source": [
    "11. Berilgan shaharlar ro'yxati va ularning joylashgan mamlakatlari ma'lumotidan foydalanib, har bir mamlakat uchun shaharlar ro'yxatini yaratadigan Python dasturini yozing. Ushbu vazifani bajarish uchun dictionary va massivlardan foydalaning.\n",
    "\n",
    "Berilgan ma'lumotlar:\n",
    "\n",
    "```\n",
    "cities = {\n",
    "    'New York': 'USA',\n",
    "    'Los Angeles': 'USA',\n",
    "    'Toronto': 'Canada',\n",
    "    'Vancouver': 'Canada',\n",
    "    'London': 'UK',\n",
    "    'Manchester': 'UK',\n",
    "    'Paris': 'France',\n",
    "    'Lyon': 'France'\n",
    "}\n",
    "\n",
    "countries = ['USA', 'Canada', 'UK', 'France']\n",
    "```\n",
    "Kutilayotgan javob:\n",
    "```\n",
    "{\n",
    "    'USA': ['New York', 'Los Angeles'],\n",
    "    'Canada': ['Toronto', 'Vancouver'],\n",
    "    'UK': ['London', 'Manchester'],\n",
    "    'France': ['Paris', 'Lyon']\n",
    "}\n",
    "```"
   ]
  },
  {
   "cell_type": "code",
   "execution_count": null,
   "id": "2863bf34",
   "metadata": {},
   "outputs": [],
   "source": [
    "# javobni shu yerga kiriting...\n",
    "cities = {\n",
    "    'New York': 'USA',\n",
    "    'Los Angeles': 'USA',\n",
    "    'Toronto': 'Canada',\n",
    "    'Vancouver': 'Canada',\n",
    "    'London': 'UK',\n",
    "    'Manchester': 'UK',\n",
    "    'Paris': 'France',\n",
    "    'Lyon': 'France'\n",
    "}\n",
    "# bu masala ham yuqoridagi masala bilan atarlik bir hil. shu usuldan ishlandi\n",
    "countries = ['USA', 'Canada', 'UK', 'France']\n",
    "\n",
    "result = {country: [] for country in countries}\n",
    "for city, country in cities.items():\n",
    "    result[country].append(city)\n",
    "\n",
    "for country, city in result.items():\n",
    "    print(f\"{country}: {', '.join(city)} \")"
   ]
  },
  {
   "cell_type": "markdown",
   "id": "1273ddf9",
   "metadata": {},
   "source": [
    "12. Berilgan mamlakatlar va ularning shaharlar ro'yxati asosida quyidagi talablarni bajaradigan dastur yozing:\n",
    "\n",
    "- Har bir mamlakat uchun shaharlar sonini hisoblang.\n",
    "- Har bir shahar nomining uzunligini hisoblang va har bir mamlakatdagi shaharlarning nomlari uzunliklari bo'yicha eng uzun va eng qisqa nomlarini toping.\n",
    "- Shahar nomlari uzunliklari bo'yicha tartiblangan yangi ro'yxat yarating.\n",
    "\n",
    "\n",
    " Berilgan:\n",
    "```\n",
    "countries_cities = {\n",
    "    \"O'zbekiston\": ['Toshkent', 'Samarqand', 'Buxoro', 'Xiva', 'Fargona', 'Namangan'],\n",
    "    \"Qozog'iston\": ['Ostona', 'Olmaota', 'Shymkent', 'Karaganda'],\n",
    "    \"Qirg'iziston\": ['Bishkek', 'Osh', 'Jalalabad'],\n",
    "    \"Tojikiston\": ['Dushanbe', 'Khujand', 'Kulob'],\n",
    "    \"Turkmaniston\": ['Ashgabat', 'Turkmenbashi', 'Mary']\n",
    "}\n",
    "```\n",
    "\n",
    "\n",
    " Kutilayotgan natija:\n",
    "\n",
    "```\n",
    " 1. Har bir mamlakat uchun shaharlar soni\n",
    "{\n",
    "    \"O'zbekiston\": 6,\n",
    "    \"Qozog'iston\": 4,\n",
    "    \"Qirg'iziston\": 3,\n",
    "    'Tojikiston': 3,\n",
    "    'Turkmaniston': 3\n",
    "}\n",
    "\n",
    " 2. Har bir mamlakatdagi shaharlarning eng uzun va eng qisqa nomlari\n",
    "{\n",
    "    \"O'zbekiston\": {'eng_uzun': 'Samarqand', 'eng_qisqa': 'Xiva'},\n",
    "    \"Qozog'iston\": {'eng_uzun': 'Karaganda', 'eng_qisqa': 'Ostona'},\n",
    "    \"Qirg'iziston\": {'eng_uzun': 'Jalalabad', 'eng_qisqa': 'Osh'},\n",
    "    'Tojikiston': {'eng_uzun': 'Dushanbe', 'eng_qisqa': 'Kulob'},\n",
    "    'Turkmaniston': {'eng_uzun': 'Turkmenbashi', 'eng_qisqa': 'Mary'}\n",
    "}\n",
    "\n",
    " 3. Shahar nomlari uzunliklari bo'yicha tartiblangan yangi ro'yxat\n",
    "[\n",
    "    'Osh', 'Xiva', 'Mary', 'Ostona', 'Kulob', 'Buxoro', 'Fargona', 'Olmaota',\n",
    "    'Bishkek', 'Samarqand', 'Shymkent', 'Toshkent', 'Dushanbe', 'Karaganda',\n",
    "    'Turkmenbashi', 'Khujand', 'Jalalabad'\n",
    "]\n",
    "\n",
    "```\n"
   ]
  },
  {
   "cell_type": "code",
   "execution_count": null,
   "id": "e6d43307",
   "metadata": {},
   "outputs": [],
   "source": [
    "# javobni shu yerga kiriting...\n",
    "countries_cities = {\n",
    "    \"O'zbekiston\": ['Toshkent', 'Samarqand', 'Buxoro', 'Xiva', 'Fargona', 'Namangan'],\n",
    "    \"Qozog'iston\": ['Ostona', 'Olmaota', 'Shymkent', 'Karaganda'],\n",
    "    \"Qirg'iziston\": ['Bishkek', 'Osh', 'Jalalabad'],\n",
    "    \"Tojikiston\": ['Dushanbe', 'Khujand', 'Kulob'],\n",
    "    \"Turkmaniston\": ['Ashgabat', 'Turkmenbashi', 'Mary']\n",
    "}\n",
    "count_cities = {key: len(value) for key, value in countries_cities.items()}\n",
    "\n",
    "print(\" 1. Har bir mamlakat uchun shaharlar soni\\n\", count_cities)\n",
    "# bizdan ikkita qiymat qaytarish so'ralayotgani uchun lug'atdan foydalanamiz\n",
    "max_and_min_length = {}\n",
    "cities_dict = {}\n",
    "for country, cities in countries_cities.items():\n",
    "# katta yoki kichik qiymatni topayotganda bitta o'zgaruvchi kiritib olish qulay\n",
    "# birinchi mex_len ni eng kichik songa teng olib ketdim, chunki berilgan ro'yxat bo'sh bo'lsa xatolik berishi mumkin\n",
    "    max_len, max_name = float(\"-inf\"), \"\"\n",
    "    min_len, min_name = float(\"inf\"), \"\"\n",
    "    for city in cities:\n",
    "        # endi har bir davlat uchun shaharlarni ko'rib chiqamiz\n",
    "        # shahar uzunligi ko'p marta ishlatilgani uchun o'zgaruvchi kiritib oldim\n",
    "        city_len = len(city)\n",
    "        # har bir shahar uzunligini kalit-qiymat juftligi sifatida saqlab boramiz\n",
    "        cities_dict[city] = city_len\n",
    "        if city_len > max_len:\n",
    "            # if to'g'ri qaytarsa o'zgaruvchim shu shaharni qabul qiladi\n",
    "            max_len, max_name = city_len, city\n",
    "        if city_len < min_len:\n",
    "            # ikkala shart uchun if operatoridan foydalanish qulay. ikkalasini ham bir vaqtda alohida ko'ramiz \n",
    "            min_len, min_name = city_len, city \n",
    "    max_and_min_length[country] = [{\"eng uzun\": max_name, \"eng qisqa\": min_name}]\n",
    "\n",
    "print(\" 2. Har bir mamlakatdagi shaharlarning eng uzun va eng qisqa nomlari\")\n",
    "print(max_and_min_length)\n",
    "\n",
    "print(\" 3. Shahar nomlari uzunliklari bo'yicha tartiblangan yangi ro'yxat\")\n",
    "# sorted() funksiyasi ancha qulay. bu yerda lambda bir qatorli funksiya yozishdan foydalandim. bu nima uchun kerak? \n",
    "# qanday tartibda saralashini ko'rsatish uchun key ga lambda orqali funksiya yozdim. bunda uzunlik bo'yicha saralaydi\n",
    "print(sorted(cities_dict.keys(), key=lambda city_name: len(city_name)))"
   ]
  },
  {
   "cell_type": "code",
   "execution_count": null,
   "id": "921d536b",
   "metadata": {},
   "outputs": [],
   "source": []
  }
 ],
 "metadata": {
  "kernelspec": {
   "display_name": "base",
   "language": "python",
   "name": "python3"
  },
  "language_info": {
   "codemirror_mode": {
    "name": "ipython",
    "version": 3
   },
   "file_extension": ".py",
   "mimetype": "text/x-python",
   "name": "python",
   "nbconvert_exporter": "python",
   "pygments_lexer": "ipython3",
   "version": "3.11.7"
  }
 },
 "nbformat": 4,
 "nbformat_minor": 5
}
