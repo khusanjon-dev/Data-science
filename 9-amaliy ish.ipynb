{
 "cells": [
  {
   "cell_type": "markdown",
   "id": "b7d37018",
   "metadata": {},
   "source": [
    "### Ishni tekshirish uchun faylni (.ipynb) kengaytmasida yuboring.\n",
    "\n",
    "---\n"
   ]
  },
  {
   "cell_type": "markdown",
   "id": "2c8ac60a",
   "metadata": {},
   "source": [
    "1. Matn ichida kerakli so'z bor yoki yo'qligini tekshiruvchi funksiya yozing.\n",
    "\n",
    "Misol uchun:\n",
    "``` \n",
    "Matn : \"Amir Temir buyuk sarkarda va tarixiy shaxs.\"\n",
    "\n",
    "So'z:  \"shaxs\" \n",
    "\n",
    "Javob:true\n",
    "``` \n",
    "\n",
    "\n"
   ]
  },
  {
   "cell_type": "code",
   "execution_count": null,
   "id": "9b28aeda",
   "metadata": {},
   "outputs": [],
   "source": [
    "# javobni shu yerga kiriting...\n",
    "text = \"Amir Temur buyuk sarkarda va tarixiy shaxs.\"\n",
    "word = 'shaxs'\n",
    "if text.find(word) != -1:\n",
    "    \"\"\"Bu yerda find() metodidan foydalandim. agar qavs ichidagi so'z textda mavjud bo'lmasa -1 qaytaradi shuning hisobiga \n",
    "    teng bo'lmasa deb oldim\"\"\"\n",
    "    print(\"True\")\n",
    "else:\n",
    "    print(\"False\")"
   ]
  },
  {
   "cell_type": "markdown",
   "id": "19d35613",
   "metadata": {},
   "source": [
    "2. Berilgan roʻyxatdagi eng katta elementni toping.\n",
    "``` x = [4, 6, 8, 24, 12, 2]```"
   ]
  },
  {
   "cell_type": "markdown",
   "id": "966042c1",
   "metadata": {},
   "source": []
  },
  {
   "cell_type": "code",
   "execution_count": null,
   "id": "de5b3ad0",
   "metadata": {},
   "outputs": [],
   "source": [
    "# javobni shu yerga kiriting...\n",
    "x = [4, 6, 8, 24, 12, 2]\n",
    "print(max(x))"
   ]
  },
  {
   "cell_type": "markdown",
   "id": "63dfd224",
   "metadata": {},
   "source": [
    "3. Ikki sonni qabul qilib, qo'shish, ayrish, ko'paytirish va bo'lish  imkoniyatiga ega funksiya yozing.\n",
    "\n",
    "Misol uchun:\n",
    "\n",
    "- funksiya ishlatish misoli : calc(3,4,\"+\")\n",
    "\n",
    "- funksiya javobi : 7\n"
   ]
  },
  {
   "cell_type": "code",
   "execution_count": null,
   "id": "ba495b58",
   "metadata": {},
   "outputs": [],
   "source": [
    "# javobni shu yerga kiriting...\n",
    "def calc(a, b, c):\n",
    "    if c == \"+\":\n",
    "        print(a + b)\n",
    "    if c == \"-\":\n",
    "        print(a - b)\n",
    "    if c == \"*\":\n",
    "        print(a * b)\n",
    "    if c == '/':\n",
    "        if b == 0:\n",
    "            print(\"Nolga bo'lish mumkin emas!\")\n",
    "            \"\"\"sonlardan biri nol bo'lishi ham mumkin\"\"\"\n",
    "        else:\n",
    "            print(round(a / b, 2))\n",
    "\n",
    "calc(10, 20, '-')"
   ]
  },
  {
   "cell_type": "markdown",
   "id": "3a300d8a",
   "metadata": {},
   "source": [
    "4. So'z va bo'shliqlardan iborat gap qatori berilgan bo'lsa, satrdagi oxirgi so'zning uzunligini qaytaruvchi funksiya yozing.\n",
    "\n",
    "Misol uchun :\n",
    "```\n",
    "O'zbekiston buyuk davlat.\n",
    "javob : 6\n",
    "\n",
    "```\n"
   ]
  },
  {
   "cell_type": "code",
   "execution_count": null,
   "id": "484600fb",
   "metadata": {},
   "outputs": [],
   "source": [
    "# javobni shu yerga kiriting...\n",
    "text = \"O'zbekiston buyuk davlat\"\n",
    "words = text.split()\n",
    "word_l = len(words[-1])\n",
    "print(word_l)"
   ]
  },
  {
   "cell_type": "markdown",
   "id": "bdcb643e",
   "metadata": {},
   "source": [
    "5. Bo'sh bo'lmagan butun sonlar ro'yxati berilgan, har bir element  ikki marta takrorlanadi. Faqat bir dona element takrorlanmaydi, shu elementni toping."
   ]
  },
  {
   "cell_type": "code",
   "execution_count": 12,
   "id": "66c3c3ed",
   "metadata": {},
   "outputs": [
    {
     "name": "stdout",
     "output_type": "stream",
     "text": [
      "3\n"
     ]
    }
   ],
   "source": [
    "# javobni shu yerga kiriting...\n",
    "numbers_list = [1, 2, 3, 4, 1, 2, 4]\n",
    "for i in range(len(numbers_list)):\n",
    "    if not (numbers_list[i] in numbers_list[i + 1:]):\n",
    "        print(numbers_list[i])\n",
    "        break"
   ]
  },
  {
   "cell_type": "markdown",
   "id": "a356b350",
   "metadata": {},
   "source": [
    "6. Satrni qabul qiladigan, katta va kichik harflar sonini hisoblaydigan funksiya yozing.\n",
    "\n",
    "Misol uchun : \n",
    "``` \"O'zbekiston Respublikasi poytaxti Toshkent shahri\"  ```\n",
    "``` 'sh', 'ch', 'ng', 'Sh', 'Ch' ```  inobatga olinsin. "
   ]
  },
  {
   "cell_type": "code",
   "execution_count": null,
   "id": "aa66798c",
   "metadata": {},
   "outputs": [],
   "source": [
    "# javobni shu yerga kiriting...\n",
    "from string import ascii_lowercase\n",
    "\n",
    "text = \"AShoChkenT\"\n",
    "\n",
    "\n",
    "def count_letters(text: str):\n",
    "    upper_count = 0\n",
    "    lower_count = 0\n",
    "    upper_ex_count = 0\n",
    "    lower_ex_count = 0\n",
    "    upper_ex = ['Sh', 'Ch']\n",
    "    lower_ex = ['sh', 'ch', 'ng']\n",
    "    for i in range(1, len(text)):\n",
    "        letter1 = text[i - 1]  # n\n",
    "        letter2 = text[i]  # T\n",
    "        if letter1 + letter2 in upper_ex:\n",
    "            upper_ex_count += 1\n",
    "        elif letter1 + letter2 in lower_ex:\n",
    "            lower_ex_count += 1\n",
    "        else:\n",
    "            if letter1 in ascii_lowercase:\n",
    "                lower_count += 1\n",
    "            else:\n",
    "                upper_count += 1\n",
    "    if letter2 in ascii_lowercase:\n",
    "        lower_count += 1\n",
    "    else:\n",
    "        upper_count += 1\n",
    "\n",
    "    return f\"Upper: {upper_count + upper_ex_count}, Lower: {lower_count - lower_ex_count - upper_ex_count}\"\n",
    "\n",
    "\n",
    "print(count_letters(text))\n",
    "\n"
   ]
  },
  {
   "cell_type": "markdown",
   "id": "220401d4",
   "metadata": {},
   "source": [
    "7. Berilgan o'nlik sonini ikkilik sanoq sistemasiga o'tkazuvchi funksiya yozing. Funksiya n o'nlik sonini argument sifatida qabul qiladi va uni ikkilik sanoq sistemasiga o'tkazadi."
   ]
  },
  {
   "cell_type": "code",
   "execution_count": null,
   "id": "41ea9f11",
   "metadata": {},
   "outputs": [],
   "source": [
    "# javobni shu yerga kiriting...\n",
    "def turn_over_num(n: int):\n",
    "    num = \"\"\n",
    "    while n != 0:\n",
    "        num += str(n % 2)    \"\"\"ikkiga bo'lamiz va qoldiqni qo'shib boramiz\"\"\"\n",
    "        n //= 2\n",
    "    return num[::-1]   \"\"\"teskari tartibda qaytaramiz\"\"\"\n",
    "\n",
    "\n",
    "print(turn_over_num(13))"
   ]
  },
  {
   "cell_type": "markdown",
   "id": "8723865e",
   "metadata": {},
   "source": [
    "8. Berilgan ikkilik sonni o'nlik sanoq sistemasiga o'tkazuvchi funksiya yozing.\n"
   ]
  },
  {
   "cell_type": "code",
   "execution_count": null,
   "id": "133a9be2",
   "metadata": {},
   "outputs": [],
   "source": [
    "# javobni shu yerga kiriting...\n",
    "\n",
    "def turn_over_int(n: int):\n",
    "    number = 0\n",
    "    n_str = str(n)[::-1]   # berilganni teskari tartibda yozib oldik. endi 1011 bo'ldi\n",
    "    for i in range(len(n_str)):\n",
    "        number += 2 ** i * int(n_str[i]) # boshida i = 0 bo'ldi va 2^0 = 1 v as_str[0]=1. bundan number = 1 bo'ldi\n",
    "    return number\n",
    "\n",
    "\n",
    "print(turn_over_int(1101))\n"
   ]
  },
  {
   "cell_type": "markdown",
   "id": "fb870666",
   "metadata": {},
   "source": [
    "9. Berilgan ikkita butun sonning eng kichik umumiy bo'luvchisini (EKUB) topuvchi funksiya yozing. Funksiya a va b sonlarini argument sifatida qabul qiladi va ularning EKUBini qaytaradi."
   ]
  },
  {
   "cell_type": "code",
   "execution_count": null,
   "id": "14bf47eb",
   "metadata": {},
   "outputs": [],
   "source": [
    "# javobni shu yerga kiriting...\n",
    "def find_gcd(a, b):\n",
    "    numbers_list = []\n",
    "    \"\"\"bo'linadigan sonlarni listga joylaymiz\"\"\"\n",
    "    min_num = b\n",
    "    \"\"\"o'zgaruvchi kiritamiz\"\"\"\n",
    "    if min_num > a:\n",
    "        min_num = a\n",
    "        \"\"\"agar shart bajarilsa kichik sonni a sifatida ko'rib chiqamiz\"\"\"\n",
    "    # for operatori orqali 2 dan boshlab kichik songacha bo'lgan sonlarni ko'rib chiqamiz\n",
    "    for num in range(2, min_num + 1):\n",
    "        # agar b va a sonlari numga bo'linsa numni listga qo'shamiz\n",
    "        if b % num == 0 and a % num == 0:\n",
    "            numbers_list.append(num)\n",
    "            # if va else ni bitta qatorda yozish qulay. agar list bosh bo'lsa else bajariladi yoki max ni qaytaradi\n",
    "    return max(numbers_list) if numbers_list else \"Ikki son o'zaro tub!\"\n",
    "\n",
    "\n",
    "print(find_gcd(10, 6))\n"
   ]
  },
  {
   "cell_type": "markdown",
   "id": "23468d49",
   "metadata": {},
   "source": [
    "10. Berilgan ikkita butun sonning eng kichik umumiy karralisini (EKUK) topuvchi funksiya yozing. Funksiya a va b sonlarini argument sifatida qabul qiladi va ularning EKUKini qaytaradi."
   ]
  },
  {
   "cell_type": "code",
   "execution_count": null,
   "id": "26466c44",
   "metadata": {},
   "outputs": [],
   "source": [
    "# javobni shu yerga kiriting...\n",
    "def find_gcd(a, b):\n",
    "    numbers_list = []\n",
    "    max_num = b\n",
    "    if max_num < a:\n",
    "        min_num = a\n",
    "        # sonlarning kattasidan boshlab ko'paytmasigacha ko'rib chiqamiz va eng kichik bo'linuvchini qaytaramiz\n",
    "    for num in range(max_num, a * b +1):\n",
    "        # agar b va a sonlari numga bo'linsa numni listga qo'shamiz\n",
    "        if num % a == 0 and num % b == 0:\n",
    "            numbers_list.append(num)\n",
    "    return min(numbers_list)\n",
    "\n",
    "\n",
    "print(find_gcd(20, 24))\n"
   ]
  },
  {
   "cell_type": "markdown",
   "id": "72710491",
   "metadata": {},
   "source": [
    "11. Berilgan musbat butun sonning kvadrat ildizini topuvchi funksiya yozing. \n",
    "Kutubxonalardan foydalanish mumkun emas."
   ]
  },
  {
   "cell_type": "code",
   "execution_count": null,
   "id": "fbe0b47a",
   "metadata": {},
   "outputs": [],
   "source": [
    "# javobni shu yerga kiriting...\n",
    "def find_sqrt(a):\n",
    "    if a == 1:\n",
    "        print(a)\n",
    "    for number in range(a//2 + 1):\n",
    "        if number ** 2 == a:\n",
    "            print(number)\n",
    "\n",
    "find_sqrt(1)"
   ]
  }
 ],
 "metadata": {
  "kernelspec": {
   "display_name": "Python 3",
   "language": "python",
   "name": "python3"
  },
  "language_info": {
   "codemirror_mode": {
    "name": "ipython",
    "version": 3
   },
   "file_extension": ".py",
   "mimetype": "text/x-python",
   "name": "python",
   "nbconvert_exporter": "python",
   "pygments_lexer": "ipython3",
   "version": "3.12.3"
  }
 },
 "nbformat": 4,
 "nbformat_minor": 5
}
